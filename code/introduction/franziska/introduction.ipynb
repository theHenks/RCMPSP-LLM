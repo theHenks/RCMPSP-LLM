{
 "cells": [
  {
   "cell_type": "markdown",
   "id": "76b85112",
   "metadata": {},
   "source": [
    "# Introduction to RCMPSP"
   ]
  },
  {
   "cell_type": "code",
   "execution_count": 1,
   "id": "723ebb34",
   "metadata": {},
   "outputs": [],
   "source": [
    "import numpy as np\n",
    "import matplotlib.pyplot as plt\n",
    "import pandas as pd"
   ]
  },
  {
   "cell_type": "markdown",
   "id": "5a93d27b",
   "metadata": {},
   "source": [
    "## `pyjobshop` to describe the RCMPSP\n",
    "\n",
    "The RCMPSP is a variant of the classical job shop scheduling problem, where each job consists of a set of operations that must be processed in a specific order. The goal is to minimize the makespan, which is the total time required to complete all jobs.\n",
    "Let's first start by testing the introduction models from the [documentation](https://pyjobshop.readthedocs.io/en/latest/tutorials/intro.html)"
   ]
  },
  {
   "cell_type": "markdown",
   "id": "e4288223",
   "metadata": {},
   "source": [
    "At first, it seems like we only need the `Model` from the package which is initialized first empty and then can be filled."
   ]
  },
  {
   "cell_type": "code",
   "execution_count": 11,
   "id": "037671a8",
   "metadata": {},
   "outputs": [],
   "source": [
    "from pyjobshop import Model\n",
    "from pyjobshop.plot import plot_machine_gantt"
   ]
  },
  {
   "cell_type": "code",
   "execution_count": 12,
   "id": "c1256104",
   "metadata": {},
   "outputs": [],
   "source": [
    "model = Model()"
   ]
  },
  {
   "cell_type": "markdown",
   "id": "79b4afcc",
   "metadata": {},
   "source": [
    "Next, we want to add 4 jobs where each job has 2 tasks"
   ]
  },
  {
   "cell_type": "code",
   "execution_count": 13,
   "id": "93a0bb4f",
   "metadata": {},
   "outputs": [],
   "source": [
    "# in this case we \n",
    "jobs = [model.add_job() for _ in range(4)]\n",
    "tasks = [[model.add_task(job=job) for _ in range(2)] for job in jobs]"
   ]
  },
  {
   "cell_type": "markdown",
   "id": "ce2a0d89",
   "metadata": {},
   "source": [
    "Next, we have to create the machines and also specify processing times for each task. The duration of a task is equal to the job index plus one (1, 2, 3 or 4)."
   ]
  },
  {
   "cell_type": "code",
   "execution_count": 14,
   "id": "3d7d9bb3",
   "metadata": {},
   "outputs": [],
   "source": [
    "machines = [model.add_machine() for _ in range(2)]\n",
    "\n",
    "for job in range(len(jobs)):\n",
    "    for task in tasks[job]:\n",
    "        for machine in machines:\n",
    "            duration = job + 1\n",
    "            model.add_mode(task, machine, duration)"
   ]
  },
  {
   "cell_type": "markdown",
   "id": "cbe4fcb6",
   "metadata": {},
   "source": [
    "Now that we have defined all important elements, we can now solve this model. By default, the model aims to minimize the makespan, which is the maximum completion time of all jobs."
   ]
  },
  {
   "cell_type": "code",
   "execution_count": 15,
   "id": "3c1f670d",
   "metadata": {},
   "outputs": [],
   "source": [
    "result = model.solve(display=False)"
   ]
  },
  {
   "cell_type": "code",
   "execution_count": 16,
   "id": "90520d8a",
   "metadata": {},
   "outputs": [
    {
     "name": "stdout",
     "output_type": "stream",
     "text": [
      "Solution results\n",
      "================\n",
      "  objective: 10.00\n",
      "lower bound: 10.00\n",
      "     status: Optimal\n",
      "    runtime: 0.01 seconds\n"
     ]
    }
   ],
   "source": [
    "print(result)"
   ]
  },
  {
   "cell_type": "code",
   "execution_count": 17,
   "id": "e29fc0c0",
   "metadata": {},
   "outputs": [
    {
     "name": "stdout",
     "output_type": "stream",
     "text": [
      "TaskData(mode=1, resources=[1], start=0, end=1)\n",
      "TaskData(mode=2, resources=[0], start=0, end=1)\n",
      "TaskData(mode=5, resources=[1], start=1, end=3)\n",
      "TaskData(mode=6, resources=[0], start=1, end=3)\n",
      "TaskData(mode=9, resources=[1], start=3, end=6)\n",
      "TaskData(mode=10, resources=[0], start=3, end=6)\n",
      "TaskData(mode=12, resources=[0], start=6, end=10)\n",
      "TaskData(mode=15, resources=[1], start=6, end=10)\n"
     ]
    }
   ],
   "source": [
    "for task in result.best.tasks:\n",
    "    print(task)"
   ]
  },
  {
   "cell_type": "code",
   "execution_count": 8,
   "id": "f9249a7c",
   "metadata": {},
   "outputs": [
    {
     "data": {
      "text/plain": [
       "<pyjobshop.Solution.Solution at 0x135724740>"
      ]
     },
     "execution_count": 8,
     "metadata": {},
     "output_type": "execute_result"
    }
   ],
   "source": [
    "result.best"
   ]
  },
  {
   "cell_type": "code",
   "execution_count": 9,
   "id": "4251245d",
   "metadata": {},
   "outputs": [
    {
     "data": {
      "image/png": "[encoded data removed]",
      "text/plain": [
       "<Figure size 1200x800 with 1 Axes>"
      ]
     },
     "metadata": {},
     "output_type": "display_data"
    }
   ],
   "source": [
    "plot_machine_gantt(result.best, model.data())"
   ]
  },
  {
   "cell_type": "markdown",
   "id": "f8624547",
   "metadata": {},
   "source": [
    "# Project scheduling example and tutorial"
   ]
  },
  {
   "cell_type": "code",
   "execution_count": 18,
   "id": "f58c238a",
   "metadata": {},
   "outputs": [],
   "source": [
    "import re\n",
    "from dataclasses import dataclass\n",
    "from typing import NamedTuple\n",
    "\n",
    "\n",
    "class Mode(NamedTuple):\n",
    "    job: int\n",
    "    duration: int\n",
    "    demands: list[int]\n",
    "\n",
    "\n",
    "@dataclass(frozen=True)\n",
    "class Instance:\n",
    "    \"\"\"\n",
    "    Problem instance class based on PSPLIB files.\n",
    "\n",
    "    Code taken from:\n",
    "    https://alns.readthedocs.io/en/latest/examples/resource_constrained_project_scheduling_problem.html\n",
    "    \"\"\"\n",
    "\n",
    "    num_jobs: int  # jobs in RCPSP are tasks in PyJobshop\n",
    "    num_resources: int\n",
    "    successors: list[list[int]]\n",
    "    predecessors: list[list[int]]\n",
    "    modes: list[Mode]\n",
    "    capacities: list[int]\n",
    "    renewable: list[bool]\n",
    "\n",
    "    @classmethod\n",
    "    def read_instance(cls, path: str) -> \"Instance\":\n",
    "        \"\"\"\n",
    "        Reads an instance of the RCPSP from a file.\n",
    "        Assumes the data is in the PSPLIB format.\n",
    "        \"\"\"\n",
    "        with open(path) as fh:\n",
    "            lines = fh.readlines()\n",
    "\n",
    "        prec_idx = lines.index(\"PRECEDENCE RELATIONS:\\n\")\n",
    "        req_idx = lines.index(\"REQUESTS/DURATIONS:\\n\")\n",
    "        avail_idx = lines.index(\"RESOURCEAVAILABILITIES:\\n\")\n",
    "\n",
    "        successors = []\n",
    "\n",
    "        for line in lines[prec_idx + 2 : req_idx - 1]:\n",
    "            _, _, _, _, *jobs, _ = re.split(r\"\\s+\", line)\n",
    "            successors.append([int(x) - 1 for x in jobs])\n",
    "\n",
    "        predecessors: list[list[int]] = [[] for _ in range(len(successors))]\n",
    "        for job in range(len(successors)):\n",
    "            for succ in successors[job]:\n",
    "                predecessors[succ].append(job)\n",
    "\n",
    "        mode_data = [\n",
    "            re.split(r\"\\s+\", line.strip())\n",
    "            for line in lines[req_idx + 3 : avail_idx - 1]\n",
    "        ]\n",
    "\n",
    "        # Prepend the job index to mode data lines if it is missing.\n",
    "        for idx in range(len(mode_data)):\n",
    "            if idx == 0:\n",
    "                continue\n",
    "\n",
    "            prev = mode_data[idx - 1]\n",
    "            curr = mode_data[idx]\n",
    "\n",
    "            if len(curr) < len(prev):\n",
    "                curr = prev[:1] + curr\n",
    "                mode_data[idx] = curr\n",
    "\n",
    "        modes = []\n",
    "        for mode in mode_data:\n",
    "            job_idx, _, duration, *consumption = mode\n",
    "            demands = list(map(int, consumption))\n",
    "            modes.append(Mode(int(job_idx) - 1, int(duration), demands))\n",
    "\n",
    "        _, *avail, _ = re.split(r\"\\s+\", lines[avail_idx + 2])\n",
    "        capacities = list(map(int, avail))\n",
    "\n",
    "        renewable = [\n",
    "            x == \"R\"\n",
    "            for x in lines[avail_idx + 1].strip().split(\" \")\n",
    "            if x in [\"R\", \"N\"]  # R: renewable, N: non-renewable\n",
    "        ]\n",
    "\n",
    "        return Instance(\n",
    "            int(job_idx),\n",
    "            len(capacities),\n",
    "            successors,\n",
    "            predecessors,\n",
    "            modes,\n",
    "            capacities,\n",
    "            renewable,\n",
    "        )"
   ]
  },
  {
   "cell_type": "code",
   "execution_count": 38,
   "id": "840db41a",
   "metadata": {},
   "outputs": [],
   "source": [
    "from pyjobshop import Model\n",
    "\n",
    "instance = Instance.read_instance(\"introduction/data/j90/j9041_6.sm\")\n",
    "model = Model()"
   ]
  },
  {
   "cell_type": "code",
   "execution_count": 22,
   "id": "1bcc58b2",
   "metadata": {},
   "outputs": [],
   "source": [
    "model = Model()\n",
    "\n",
    "# It's not necessary to define jobs, but it will add coloring to the plot.\n",
    "jobs = [model.add_job() for _ in range(instance.num_jobs)]\n",
    "tasks = [model.add_task(job=jobs[idx]) for idx in range(instance.num_jobs)]\n",
    "resources = [model.add_renewable(capacity) for capacity in instance.capacities]"
   ]
  },
  {
   "cell_type": "code",
   "execution_count": 23,
   "id": "669618f1",
   "metadata": {},
   "outputs": [],
   "source": [
    "for idx, duration, demands in instance.modes:\n",
    "    model.add_mode(tasks[idx], resources, duration, demands)"
   ]
  },
  {
   "cell_type": "code",
   "execution_count": 24,
   "id": "c49baffa",
   "metadata": {},
   "outputs": [],
   "source": [
    "for idx in range(instance.num_jobs):\n",
    "    task = tasks[idx]\n",
    "\n",
    "    for pred in instance.predecessors[idx]:\n",
    "        model.add_end_before_start(tasks[pred], task)\n",
    "\n",
    "    for succ in instance.successors[idx]:\n",
    "        model.add_end_before_start(task, tasks[succ])"
   ]
  },
  {
   "cell_type": "code",
   "execution_count": 25,
   "id": "be36a090",
   "metadata": {},
   "outputs": [
    {
     "name": "stdout",
     "output_type": "stream",
     "text": [
      "Solution results\n",
      "================\n",
      "  objective: 140.00\n",
      "lower bound: 121.00\n",
      "     status: Feasible\n",
      "    runtime: 5.02 seconds\n"
     ]
    }
   ],
   "source": [
    "result = model.solve(time_limit=5, display=False)\n",
    "print(result)"
   ]
  },
  {
   "cell_type": "code",
   "execution_count": 26,
   "id": "e1c3cf3e",
   "metadata": {},
   "outputs": [
    {
     "data": {
      "image/png": "[encoded data removed]",
      "text/plain": [
       "<Figure size 1200x1600 with 5 Axes>"
      ]
     },
     "metadata": {},
     "output_type": "display_data"
    }
   ],
   "source": [
    "import matplotlib.pyplot as plt\n",
    "\n",
    "from pyjobshop.plot import plot_resource_usage, plot_task_gantt\n",
    "\n",
    "data = model.data()\n",
    "fig, axes = plt.subplots(\n",
    "    data.num_resources + 1,\n",
    "    figsize=(12, 16),\n",
    "    gridspec_kw={\"height_ratios\": [6] + [1] * data.num_resources},\n",
    ")\n",
    "\n",
    "plot_task_gantt(result.best, model.data(), ax=axes[0])\n",
    "plot_resource_usage(result.best, model.data(), axes=axes[1:])"
   ]
  },
  {
   "cell_type": "code",
   "execution_count": null,
   "id": "b1b59fdc",
   "metadata": {},
   "outputs": [
    {
     "ename": "NameError",
     "evalue": "name 'Set' is not defined",
     "output_type": "error",
     "traceback": [
      "\u001b[31m---------------------------------------------------------------------------\u001b[39m",
      "\u001b[31mNameError\u001b[39m                                 Traceback (most recent call last)",
      "\u001b[36mCell\u001b[39m\u001b[36m \u001b[39m\u001b[32mIn[10]\u001b[39m\u001b[32m, line 14\u001b[39m\n\u001b[32m      1\u001b[39m \u001b[38;5;66;03m# --- Indices (Implicit in Set/Param/Var definitions) ---\u001b[39;00m\n\u001b[32m      2\u001b[39m \u001b[38;5;66;03m# p: Project (Often handled implicitly by defining which activities belong to which project)\u001b[39;00m\n\u001b[32m      3\u001b[39m \u001b[38;5;66;03m# j: Activity\u001b[39;00m\n\u001b[32m   (...)\u001b[39m\u001b[32m     12\u001b[39m \n\u001b[32m     13\u001b[39m \u001b[38;5;66;03m# Set of activities\u001b[39;00m\n\u001b[32m---> \u001b[39m\u001b[32m14\u001b[39m model.J = Set() \u001b[38;5;66;03m# e.g., initialize=['Act1', 'Act2', ...] or range(num_activities)\u001b[39;00m\n\u001b[32m     16\u001b[39m \u001b[38;5;66;03m# Set of finish activities (subset of J)\u001b[39;00m\n\u001b[32m     17\u001b[39m model.J_F = Set(within=model.J) \u001b[38;5;66;03m# e.g., initialize=['ActN', ...]\u001b[39;00m\n",
      "\u001b[31mNameError\u001b[39m: name 'Set' is not defined"
     ]
    }
   ],
   "source": [
    "''' # --- Indices (Implicit in Set/Param/Var definitions) ---\n",
    "# p: Project (Often handled implicitly by defining which activities belong to which project)\n",
    "# j: Activity\n",
    "# m: Mode\n",
    "# a: Production area\n",
    "# w: Pool of workers\n",
    "# t: Planning period\n",
    "\n",
    "# --- Sets ---\n",
    "# Assuming 'model' is an object from an optimization library (e.g., Pyomo)\n",
    "# Replace 'initialize=[...]' with your actual data loading mechanism\n",
    "\n",
    "# Set of activities\n",
    "model.J = Set() # e.g., initialize=['Act1', 'Act2', ...] or range(num_activities)\n",
    "\n",
    "# Set of finish activities (subset of J)\n",
    "model.J_F = Set(within=model.J) # e.g., initialize=['ActN', ...]\n",
    "\n",
    "# Set of modes\n",
    "model.M = Set() # e.g., initialize=['ModeA', 'ModeB', ...] or range(num_modes)\n",
    "\n",
    "# Set of activities executable in mode m (Indexed Set)\n",
    "# Option 1: Dictionary mapping mode to set of activities\n",
    "# activities_by_mode = {'ModeA': {'Act1', 'Act2'}, 'ModeB': {'Act1', 'Act3'}}\n",
    "# Option 2: Pyomo Indexed Set\n",
    "model.J_m = Set(model.M) # e.g., initialize={'ModeA': ['Act1', 'Act2'], ...}\n",
    "\n",
    "# Set of modes for activity j (Indexed Set)\n",
    "# Option 1: Dictionary mapping activity to set of modes\n",
    "# modes_by_activity = {'Act1': {'ModeA', 'ModeB'}, 'Act2': {'ModeA'}}\n",
    "# Option 2: Pyomo Indexed Set\n",
    "model.M_j = Set(model.J) # e.g., initialize={'Act1': ['ModeA', 'ModeB'], ...}\n",
    "\n",
    "# Set of production areas\n",
    "model.A = Set() # e.g., initialize=['Area1', 'Area2', ...]\n",
    "\n",
    "# Set of precedence relations (set of pairs (j, k))\n",
    "model.E = Set(dimen=2) # e.g., initialize=[('Act1', 'Act2'), ('Act1', 'Act3'), ...]\n",
    "\n",
    "# Set of pools of workers\n",
    "model.W = Set() # e.g., initialize=['PoolX', 'PoolY', ...]\n",
    "\n",
    "# Set of planning periods\n",
    "# Often represented as a range or specific time points\n",
    "model.T = Set() # e.g., initialize=range(T_max) or specific dates/times\n",
    "\n",
    "# --- Parameters ---\n",
    "\n",
    "# Processing time of activity j in mode m\n",
    "model.p = Param(model.J, model.M) # e.g., initialize={(j, m): time_value, ...}\n",
    "\n",
    "# Weight for finish activities j\n",
    "model.alpha = Param(model.J_F) # e.g., initialize={j: weight_value, ...}\n",
    "\n",
    "# Penalty for earliness (scalar)\n",
    "model.beta_e = Param() # e.g., initialize=value\n",
    "\n",
    "# Penalty for tardiness (scalar)\n",
    "model.beta_t = Param() # e.g., initialize=value\n",
    "\n",
    "# Due date of finish activity j\n",
    "model.d = Param(model.J_F) # e.g., initialize={j: date_value, ...}\n",
    "\n",
    "# Resource requirement of activity j for pool w in mode m\n",
    "model.r = Param(model.J, model.W, model.M) # e.g., initialize={(j, w, m): req_value, ...}\n",
    "\n",
    "# Lower bound for allocation of pool w in area a\n",
    "model.q_lower = Param(model.W, model.A) # e.g., initialize={(w, a): lower_bound, ...}\n",
    "\n",
    "# Upper bound for allocation of pool w in area a\n",
    "model.q_upper = Param(model.W, model.A) # e.g., initialize={(w, a): upper_bound, ...}\n",
    "\n",
    "# Capacity of worker pool w at time t\n",
    "model.b = Param(model.W, model.T) # e.g., initialize={(w, t): capacity_value, ...}\n",
    "\n",
    "# Earliest start time of activity j\n",
    "model.ES = Param(model.J) # e.g., initialize={j: time_value, ...}\n",
    "\n",
    "# Latest finish time of activity j\n",
    "model.LF = Param(model.J) # e.g., initialize={j: time_value, ...}\n",
    "\n",
    "# Transfer time if activity (successor) is in mode n while predecessor was in mode m\n",
    "# Assumes indices are (mode_predecessor, mode_successor)\n",
    "model.delta = Param(model.M, model.M) # e.g., initialize={(m, n): transfer_time, ...}\n",
    "\n",
    "# Planning horizon (scalar, potentially used to define Set T)\n",
    "model.T_max = Param() # e.g., initialize=value\n",
    "\n",
    "# --- Continuous Variables ---\n",
    "\n",
    "# Earliness of activity j (likely for j in J_F)\n",
    "# Assuming non-negative\n",
    "model.earliness = Var(model.J_F, domain=NonNegativeReals) # Using J_F based on context of alpha and d\n",
    "\n",
    "# Tardiness of activity j (likely for j in J_F)\n",
    "# Note: The image uses t_j, which conflicts with t as the time index. Renamed for clarity.\n",
    "# Assuming non-negative\n",
    "model.tardiness = Var(model.J_F, domain=NonNegativeReals) # Using J_F based on context of alpha and d\n",
    "\n",
    "# Capacity of worker pool w allocated to production area a in period t\n",
    "# Assuming non-negative\n",
    "model.q_allocated = Var(model.A, model.W, model.T, domain=NonNegativeReals)\n",
    "\n",
    "# --- Binary Variables ---\n",
    "\n",
    "# x[j,m,t] = 1 if activity j starts in mode m at the beginning of period t or before, 0 otherwise\n",
    "# Note: The definition \"or before\" makes this a cumulative or step variable, not a simple start indicator.\n",
    "model.x = Var(model.J, model.M, model.T, domain=Binary)\n",
    "\n",
    "'''"
   ]
  }
 ],
 "metadata": {
  "kernelspec": {
   "display_name": "mim",
   "language": "python",
   "name": "python3"
  },
  "language_info": {
   "codemirror_mode": {
    "name": "ipython",
    "version": 3
   },
   "file_extension": ".py",
   "mimetype": "text/x-python",
   "name": "python",
   "nbconvert_exporter": "python",
   "pygments_lexer": "ipython3",
   "version": "3.12.9"
  }
 },
 "nbformat": 4,
 "nbformat_minor": 5
}
